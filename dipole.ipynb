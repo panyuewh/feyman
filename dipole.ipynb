{
 "cells": [
  {
   "cell_type": "markdown",
   "id": "a968c439-8937-4a10-9d9f-80fdaadcbab3",
   "metadata": {},
   "source": [
    "### 《费恩曼物理学讲义》 第1卷 第28章-第30章 电磁辐射"
   ]
  },
  {
   "cell_type": "code",
   "execution_count": 1,
   "id": "4976400a-74e7-4178-b114-eb63bb08c33d",
   "metadata": {},
   "outputs": [],
   "source": [
    "from sympy import *"
   ]
  },
  {
   "cell_type": "code",
   "execution_count": 2,
   "id": "6dbfb531-46c2-4f11-8b89-39812db0908c",
   "metadata": {},
   "outputs": [],
   "source": [
    "from sympy.physics.vector import *"
   ]
  },
  {
   "cell_type": "code",
   "execution_count": 3,
   "id": "71ada3cf-636a-4f38-b4e3-c419d13cbb00",
   "metadata": {},
   "outputs": [],
   "source": [
    "e_rp = dynamicsymbols(r\"\\vec{e_{r^{'}}}\")"
   ]
  },
  {
   "cell_type": "code",
   "execution_count": 4,
   "id": "25668751-1e76-4156-b552-bf9dd0f0a3ff",
   "metadata": {},
   "outputs": [],
   "source": [
    "E = dynamicsymbols(r\"\\vec{E}\")"
   ]
  },
  {
   "cell_type": "code",
   "execution_count": 5,
   "id": "78629c95-7d28-4993-a6d7-3ba3071551e2",
   "metadata": {},
   "outputs": [],
   "source": [
    "a_x, E_x, a, E = dynamicsymbols(r\"a_x E_x a E\")"
   ]
  },
  {
   "cell_type": "code",
   "execution_count": 6,
   "id": "3da0c827-5713-47ca-a38b-7fb00679a19f",
   "metadata": {},
   "outputs": [],
   "source": [
    "E_x = dynamicsymbols(r\"E_x\")"
   ]
  },
  {
   "cell_type": "code",
   "execution_count": 7,
   "id": "171bbc00-ccbe-468d-88a5-92b710e1e0ec",
   "metadata": {},
   "outputs": [],
   "source": [
    "q, ep_0, c, t, r, th = symbols(r\"q epsilon_0 c t r theta\")"
   ]
  },
  {
   "cell_type": "markdown",
   "id": "9211b02c-bbc3-4e11-8d00-89f17a0ec591",
   "metadata": {},
   "source": [
    "### 辐射定律"
   ]
  },
  {
   "cell_type": "code",
   "execution_count": 8,
   "id": "aa833c39-0d68-4f23-b922-83d699978644",
   "metadata": {},
   "outputs": [],
   "source": [
    "e_law = Eq(E, - q / (4*pi*ep_0*c**2) * e_rp.diff(t, t))"
   ]
  },
  {
   "cell_type": "code",
   "execution_count": 9,
   "id": "127f3037-61e1-4021-a905-7320ee44d80e",
   "metadata": {},
   "outputs": [
    {
     "data": {
      "text/latex": [
       "$\\displaystyle E{\\left(t \\right)} = - \\frac{q \\frac{d^{2}}{d t^{2}} \\vec{e_{r^{'}}}{\\left(t \\right)}}{4 \\pi c^{2} \\epsilon_{0}}$"
      ],
      "text/plain": [
       "Eq(E(t), -q*Derivative(\\vec{e_{r^{'}}}(t), (t, 2))/(4*pi*c**2*epsilon_0))"
      ]
     },
     "execution_count": 9,
     "metadata": {},
     "output_type": "execute_result"
    }
   ],
   "source": [
    "e_law # e_rp 为从测量E的P点出发的单位矢量；如r为从P到q的距离，则延迟r/c时间，故以rp指代"
   ]
  },
  {
   "cell_type": "code",
   "execution_count": 10,
   "id": "178e9d3e-22c7-47b0-b0e8-6c2988f03235",
   "metadata": {},
   "outputs": [],
   "source": [
    "e_law_x = Eq(E_x,  - q / (4*pi*ep_0*r*c**2) * a_x.subs(t, t - r/c))  "
   ]
  },
  {
   "cell_type": "code",
   "execution_count": 11,
   "id": "8de6be75-1951-4e0b-a658-8481c576d72a",
   "metadata": {},
   "outputs": [
    {
     "data": {
      "text/latex": [
       "$\\displaystyle E_{x}{\\left(t \\right)} = - \\frac{q a_{x}{\\left(t - \\frac{r}{c} \\right)}}{4 \\pi c^{2} \\epsilon_{0} r}$"
      ],
      "text/plain": [
       "Eq(E_x(t), -q*a_x(t - r/c)/(4*pi*c**2*epsilon_0*r))"
      ]
     },
     "execution_count": 11,
     "metadata": {},
     "output_type": "execute_result"
    }
   ],
   "source": [
    "e_law_x # a_x 为垂直于视线的电子运动加速度分量"
   ]
  },
  {
   "cell_type": "markdown",
   "id": "06b5c8f4-21ca-42a7-afe7-811a42332758",
   "metadata": {},
   "source": [
    "### 偶极子辐射"
   ]
  },
  {
   "cell_type": "code",
   "execution_count": 12,
   "id": "de52ac7b-8b6f-4d8f-9f58-1af3f77a79a2",
   "metadata": {},
   "outputs": [],
   "source": [
    "# d_law = Eq(E, - q / (4*pi*eps_0*r*c**2) * a.subs(t, t - r/c) * sin(th))"
   ]
  },
  {
   "cell_type": "code",
   "execution_count": 13,
   "id": "49831e8d-865e-4e64-ad7e-e7e1bf075fb4",
   "metadata": {},
   "outputs": [],
   "source": [
    "d_law = Eq(E, - q / (4*pi*ep_0*r*c**2) * a * sin(th)) # th为视线与加速度方向的夹角"
   ]
  },
  {
   "cell_type": "code",
   "execution_count": 14,
   "id": "b6cd14f8-1dda-4b2d-841a-7184b590be56",
   "metadata": {},
   "outputs": [
    {
     "data": {
      "text/latex": [
       "$\\displaystyle E{\\left(t \\right)} = - \\frac{q a{\\left(t - \\frac{r}{c} \\right)} \\sin{\\left(\\theta \\right)}}{4 \\pi c^{2} \\epsilon_{0} r}$"
      ],
      "text/plain": [
       "Eq(E(t), -q*a(t - r/c)*sin(theta)/(4*pi*c**2*epsilon_0*r))"
      ]
     },
     "execution_count": 14,
     "metadata": {},
     "output_type": "execute_result"
    }
   ],
   "source": [
    "d_law.subs(a, a.subs(t, t - r/c)) "
   ]
  },
  {
   "cell_type": "code",
   "execution_count": 15,
   "id": "ac1177be-4c72-46f4-b23f-b4f94a6942ad",
   "metadata": {},
   "outputs": [],
   "source": [
    "om, x_0, a_0 = symbols(r\"omega x_0 a_0\") # a_0 = -omega**2*x_0"
   ]
  },
  {
   "cell_type": "code",
   "execution_count": 16,
   "id": "82ec0002-3c81-4e9a-83b8-1ad61f7b77d7",
   "metadata": {},
   "outputs": [
    {
     "data": {
      "text/latex": [
       "$\\displaystyle E{\\left(t \\right)} = - \\frac{a_{0} q \\sin{\\left(\\theta \\right)} \\cos{\\left(\\omega \\left(t - \\frac{r}{c}\\right) \\right)}}{4 \\pi c^{2} \\epsilon_{0} r}$"
      ],
      "text/plain": [
       "Eq(E(t), -a_0*q*sin(theta)*cos(omega*(t - r/c))/(4*pi*c**2*epsilon_0*r))"
      ]
     },
     "execution_count": 16,
     "metadata": {},
     "output_type": "execute_result"
    }
   ],
   "source": [
    "d_law = d_law.subs(a, (a_0 * cos(om*t)).subs(t, t - r/c)); d_law"
   ]
  },
  {
   "cell_type": "code",
   "execution_count": 17,
   "id": "7c01d2bf-b575-4798-8369-914662c8ebd7",
   "metadata": {},
   "outputs": [
    {
     "data": {
      "text/plain": [
       "<function IPython.core.display_functions.display(*objs, include=None, exclude=None, metadata=None, transient=None, display_id=None, raw=False, clear=False, **kwargs)>"
      ]
     },
     "execution_count": 17,
     "metadata": {},
     "output_type": "execute_result"
    }
   ],
   "source": [
    "display    "
   ]
  },
  {
   "cell_type": "markdown",
   "id": "55698be0-cddf-43e0-bbd4-4786a9b79304",
   "metadata": {},
   "source": [
    "![dipole](250px-Dipole.gif \"oscillating electric dipole\")"
   ]
  },
  {
   "cell_type": "markdown",
   "id": "775c5cad-0848-4ece-abe0-c33545afedae",
   "metadata": {},
   "source": [
    "### 衍射光栅（Diffraction Grating）"
   ]
  },
  {
   "cell_type": "markdown",
   "id": "b70c6d38-a0b5-45de-accc-2894d92e0683",
   "metadata": {},
   "source": [
    "有n个等间距的振子，振幅都相同，但彼此相位不同，这或者是由于激励时不同相，或者是由于从某个角度去观察它们从而延迟时间有所不同所致。\n",
    "考虑后一种情况，ph是在某一特定方向观察时，一个振子与下一个振子的相位差。"
   ]
  },
  {
   "cell_type": "code",
   "execution_count": 34,
   "id": "c5044a12-46b1-43ea-ad0d-619c8e182dea",
   "metadata": {},
   "outputs": [],
   "source": [
    "d, la, al, ph, A, n, k, R, A_R = symbols(r\"d lambda alpha phi A n k R A_R\")"
   ]
  },
  {
   "cell_type": "code",
   "execution_count": 19,
   "id": "5db59875-c424-4f0d-8a13-23e1b9ab9be3",
   "metadata": {},
   "outputs": [
    {
     "data": {
      "text/latex": [
       "$\\displaystyle A = - \\frac{a_{0} q \\sin{\\left(\\theta \\right)}}{4 \\pi c^{2} \\epsilon_{0} r}$"
      ],
      "text/plain": [
       "Eq(A, -a_0*q*sin(theta)/(4*pi*c**2*epsilon_0*r))"
      ]
     },
     "execution_count": 19,
     "metadata": {},
     "output_type": "execute_result"
    }
   ],
   "source": [
    "A_def = Eq(A, - a_0 * q / (4*pi*ep_0*r*c**2) * sin(th)); A_def"
   ]
  },
  {
   "cell_type": "code",
   "execution_count": 20,
   "id": "3d0dbe2a-bd4f-4ae9-a0ed-954bbb95ec00",
   "metadata": {},
   "outputs": [
    {
     "data": {
      "text/latex": [
       "$\\displaystyle E{\\left(t \\right)} = A \\cos{\\left(\\omega \\left(t - \\frac{r}{c}\\right) \\right)}$"
      ],
      "text/plain": [
       "Eq(E(t), A*cos(omega*(t - r/c)))"
      ]
     },
     "execution_count": 20,
     "metadata": {},
     "output_type": "execute_result"
    }
   ],
   "source": [
    "d_law.subs(A_def.rhs, A_def.lhs)"
   ]
  },
  {
   "cell_type": "code",
   "execution_count": 24,
   "id": "47d1ace7-d825-40fc-ab4d-124556acf974",
   "metadata": {},
   "outputs": [
    {
     "data": {
      "text/latex": [
       "$\\displaystyle \\phi = \\alpha + \\frac{2 \\pi d \\sin{\\left(\\theta \\right)}}{\\lambda}$"
      ],
      "text/plain": [
       "Eq(phi, alpha + 2*pi*d*sin(theta)/lambda)"
      ]
     },
     "execution_count": 24,
     "metadata": {},
     "output_type": "execute_result"
    }
   ],
   "source": [
    "ph_def = Eq(ph, al + 2*pi*d*sin(th)/la); ph_def # alpha为相邻两个振子之间原有的相位差"
   ]
  },
  {
   "cell_type": "code",
   "execution_count": 32,
   "id": "c743a98e-fe93-4236-9cc7-65ff276a463f",
   "metadata": {},
   "outputs": [
    {
     "data": {
      "text/latex": [
       "$\\displaystyle R = \\sum_{k=0}^{n - 1} A \\cos{\\left(k \\phi + \\omega t \\right)}$"
      ],
      "text/plain": [
       "Eq(R, Sum(A*cos(k*phi + omega*t), (k, 0, n - 1)))"
      ]
     },
     "execution_count": 32,
     "metadata": {},
     "output_type": "execute_result"
    }
   ],
   "source": [
    "R_def = Eq(R, Sum(A*cos(om*t + k*ph), (k, 0, n - 1))); R_def "
   ]
  },
  {
   "cell_type": "code",
   "execution_count": 35,
   "id": "bb2a59e3-cb83-4910-a8db-6d9f665198b8",
   "metadata": {},
   "outputs": [
    {
     "data": {
      "text/latex": [
       "$\\displaystyle A_{R} = \\frac{A \\sin{\\left(\\frac{n \\phi}{2} \\right)}}{\\sin{\\left(\\frac{\\phi}{2} \\right)}}$"
      ],
      "text/plain": [
       "Eq(A_R, A*sin(n*phi/2)/sin(phi/2))"
      ]
     },
     "execution_count": 35,
     "metadata": {},
     "output_type": "execute_result"
    }
   ],
   "source": [
    "AR_def = Eq(A_R, A*sin(n*ph/2)/sin(ph/2)); AR_def  "
   ]
  },
  {
   "cell_type": "code",
   "execution_count": 25,
   "id": "270638c5-6fce-4eb1-9e9e-942db34d6255",
   "metadata": {},
   "outputs": [
    {
     "data": {
      "text/latex": [
       "$\\displaystyle \\phi = \\frac{2 \\pi d \\sin{\\left(\\theta \\right)}}{\\lambda}$"
      ],
      "text/plain": [
       "Eq(phi, 2*pi*d*sin(theta)/lambda)"
      ]
     },
     "execution_count": 25,
     "metadata": {},
     "output_type": "execute_result"
    }
   ],
   "source": [
    "ph_def = ph_def.subs(al, 0); ph_def"
   ]
  },
  {
   "cell_type": "markdown",
   "id": "954d1354-892d-4660-8288-5d595e2023c4",
   "metadata": {},
   "source": [
    "* 当n是一个很大的数时，在ph=0附近作图"
   ]
  },
  {
   "cell_type": "code",
   "execution_count": null,
   "id": "5bf5234f-4f01-4b9a-b986-9af3a105a9d3",
   "metadata": {},
   "outputs": [],
   "source": [
    "# ph = 2*pi/n"
   ]
  },
  {
   "cell_type": "markdown",
   "id": "69b08420-2954-42d7-9452-25bc86393c5d",
   "metadata": {},
   "source": [
    "* 当ph角增加2*pi的任意倍时，得到另一些主极大值"
   ]
  },
  {
   "cell_type": "code",
   "execution_count": null,
   "id": "3ff92459-0a37-4762-aa43-1b76c0d7af20",
   "metadata": {},
   "outputs": [],
   "source": [
    "# ph = 2*pi*m"
   ]
  },
  {
   "cell_type": "markdown",
   "id": "cea8068d-e206-4863-bc76-e3ea2b13e3b0",
   "metadata": {},
   "source": [
    "* 瑞利判据"
   ]
  },
  {
   "cell_type": "code",
   "execution_count": null,
   "id": "039a1e31-0b6e-4280-9a3c-f17260fae76f",
   "metadata": {},
   "outputs": [],
   "source": []
  }
 ],
 "metadata": {
  "kernelspec": {
   "display_name": "Python 3 (ipykernel)",
   "language": "python",
   "name": "python3"
  },
  "language_info": {
   "codemirror_mode": {
    "name": "ipython",
    "version": 3
   },
   "file_extension": ".py",
   "mimetype": "text/x-python",
   "name": "python",
   "nbconvert_exporter": "python",
   "pygments_lexer": "ipython3",
   "version": "3.12.3"
  }
 },
 "nbformat": 4,
 "nbformat_minor": 5
}
