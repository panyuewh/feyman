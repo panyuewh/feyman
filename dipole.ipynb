{
 "cells": [
  {
   "cell_type": "markdown",
   "id": "a968c439-8937-4a10-9d9f-80fdaadcbab3",
   "metadata": {},
   "source": [
    "### 《费恩曼物理学讲义》 第1卷 第28章-第30章 电磁辐射"
   ]
  },
  {
   "cell_type": "code",
   "execution_count": null,
   "id": "4976400a-74e7-4178-b114-eb63bb08c33d",
   "metadata": {},
   "outputs": [],
   "source": []
  }
 ],
 "metadata": {
  "kernelspec": {
   "display_name": "Python 3 (ipykernel)",
   "language": "python",
   "name": "python3"
  },
  "language_info": {
   "codemirror_mode": {
    "name": "ipython",
    "version": 3
   },
   "file_extension": ".py",
   "mimetype": "text/x-python",
   "name": "python",
   "nbconvert_exporter": "python",
   "pygments_lexer": "ipython3",
   "version": "3.12.3"
  }
 },
 "nbformat": 4,
 "nbformat_minor": 5
}
