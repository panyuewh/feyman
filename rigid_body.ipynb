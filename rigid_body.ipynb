{
 "cells": [
  {
   "cell_type": "markdown",
   "id": "82dd5cf1-ec45-4493-b95c-bdf053b7b5db",
   "metadata": {},
   "source": [
    "### 《费恩曼物理学讲义》 第1卷 第18章-第20章 刚体的转动\n"
   ]
  },
  {
   "cell_type": "code",
   "execution_count": null,
   "id": "9852ce9f-8766-4c05-bdaa-12213a4b315e",
   "metadata": {},
   "outputs": [],
   "source": []
  }
 ],
 "metadata": {
  "kernelspec": {
   "display_name": "Python 3 (ipykernel)",
   "language": "python",
   "name": "python3"
  },
  "language_info": {
   "codemirror_mode": {
    "name": "ipython",
    "version": 3
   },
   "file_extension": ".py",
   "mimetype": "text/x-python",
   "name": "python",
   "nbconvert_exporter": "python",
   "pygments_lexer": "ipython3",
   "version": "3.12.3"
  }
 },
 "nbformat": 4,
 "nbformat_minor": 5
}
