{
 "cells": [
  {
   "cell_type": "markdown",
   "metadata": {},
   "source": [
    "### 《费恩曼物理学讲义》 第1卷 第23章 共振 \n",
    "\n",
    "* 谐振子（Harmonic Oscillator）\n",
    "* 阻尼振子（Damped Harmonic Oscillator）\n",
    "* 受迫振子（Driven Harmonic Oscillator）\n",
    "* 有阻尼的受迫振子（Damped Driven Harmonic Oscillator）"
   ]
  },
  {
   "cell_type": "code",
   "execution_count": 1,
   "metadata": {},
   "outputs": [],
   "source": [
    "from sympy import *"
   ]
  },
  {
   "cell_type": "code",
   "execution_count": 2,
   "metadata": {},
   "outputs": [],
   "source": [
    "t, omega, gamma, omega_0, t_0, Q = symbols(r\"t omega gamma omega_0 t_0 Q\") "
   ]
  },
  {
   "cell_type": "markdown",
   "metadata": {},
   "source": [
    "### 弹簧振子（Spring Oscillator)"
   ]
  },
  {
   "cell_type": "code",
   "execution_count": 3,
   "metadata": {},
   "outputs": [],
   "source": [
    "c, k, m = symbols(r\"c k m\")\n",
    "x, F = symbols(\"x F\", cls=Function)\n",
    "\n",
    "form_m1 = Eq(m*x(t).diff(t, t) + c*x(t).diff(t) + k*x(t), F(t))"
   ]
  },
  {
   "cell_type": "code",
   "execution_count": 4,
   "metadata": {},
   "outputs": [],
   "source": [
    "define_gamma_m = Eq(gamma, m/c)\n",
    "define_omega_0_2_m = Eq(omega_0**2, k/m)\n",
    "hat_F = Symbol(r\"\\hat{F}\")\n",
    "define_F = Eq(F(t), hat_F*exp(I*omega*t))\n",
    "\n",
    "form_m2 = Eq(x(t).diff(t, t) + gamma*x(t).diff(t) + omega_0**2*x(t), hat_F*exp(I*omega*t)/m)"
   ]
  },
  {
   "cell_type": "code",
   "execution_count": 5,
   "metadata": {},
   "outputs": [],
   "source": [
    "form_m3 = Eq(x(t), hat_F/m/(omega_0**2 - omega**2 + I*gamma*omega)*exp(I*omega*t))"
   ]
  },
  {
   "cell_type": "code",
   "execution_count": null,
   "metadata": {},
   "outputs": [],
   "source": [
    "form_m1"
   ]
  },
  {
   "cell_type": "code",
   "execution_count": null,
   "metadata": {},
   "outputs": [],
   "source": [
    "form_m2"
   ]
  },
  {
   "cell_type": "code",
   "execution_count": null,
   "metadata": {},
   "outputs": [],
   "source": [
    "form_m3"
   ]
  },
  {
   "cell_type": "markdown",
   "metadata": {},
   "source": [
    "### LC 震荡器（LC Oscillator）"
   ]
  },
  {
   "cell_type": "code",
   "execution_count": 9,
   "metadata": {},
   "outputs": [],
   "source": [
    "L, R, C = symbols(r\"L R C\")\n",
    "q, V = symbols(\"q V\", cls=Function)\n",
    "\n",
    "form_e1 = Eq(L*q(t).diff(t, t) + R*q(t).diff(t) + q(t)/C, V(t))"
   ]
  },
  {
   "cell_type": "code",
   "execution_count": 10,
   "metadata": {},
   "outputs": [],
   "source": [
    "define_gamma_e = Eq(gamma, R/L)\n",
    "define_omega_0_2_e = Eq(omega_0**2, 1/L/C)\n",
    "hat_V = Symbol(r\"\\hat{V}\")\n",
    "define_V = Eq(V(t), hat_V*exp(I*omega*t))\n",
    "\n",
    "form_e2 = Eq(q(t).diff(t, t) + gamma*q(t).diff(t) + omega_0**2*q(t), hat_V*exp(I*omega*t)/L)"
   ]
  },
  {
   "cell_type": "code",
   "execution_count": 11,
   "metadata": {},
   "outputs": [],
   "source": [
    "form_e3 = Eq(q(t), hat_V/L/(omega_0**2- omega**2 + I*gamma*omega)*exp(I*omega*t))"
   ]
  },
  {
   "cell_type": "code",
   "execution_count": null,
   "metadata": {},
   "outputs": [],
   "source": [
    "form_e1"
   ]
  },
  {
   "cell_type": "code",
   "execution_count": null,
   "metadata": {},
   "outputs": [],
   "source": [
    "form_e2"
   ]
  },
  {
   "cell_type": "code",
   "execution_count": null,
   "metadata": {},
   "outputs": [],
   "source": [
    "form_e3"
   ]
  },
  {
   "cell_type": "markdown",
   "metadata": {},
   "source": [
    "### 共振性质"
   ]
  },
  {
   "cell_type": "markdown",
   "metadata": {
    "user_expressions": [
     {
      "expression": "t",
      "result": {
       "data": {
        "text/latex": "$\\displaystyle t$",
        "text/plain": "t"
       },
       "metadata": {},
       "status": "ok"
      }
     },
     {
      "expression": "t",
      "result": {
       "data": {
        "text/latex": "$\\displaystyle t$",
        "text/plain": "t"
       },
       "metadata": {},
       "status": "ok"
      }
     },
     {
      "expression": "x(t)",
      "result": {
       "data": {
        "text/latex": "$\\displaystyle x{\\left(t \\right)}$",
        "text/plain": "x(t)"
       },
       "metadata": {},
       "status": "ok"
      }
     },
     {
      "expression": "q(t)",
      "result": {
       "data": {
        "text/latex": "$\\displaystyle q{\\left(t \\right)}$",
        "text/plain": "q(t)"
       },
       "metadata": {},
       "status": "ok"
      }
     },
     {
      "expression": "m",
      "result": {
       "data": {
        "text/latex": "$\\displaystyle m$",
        "text/plain": "m"
       },
       "metadata": {},
       "status": "ok"
      }
     },
     {
      "expression": "L",
      "result": {
       "data": {
        "text/latex": "$\\displaystyle L$",
        "text/plain": "L"
       },
       "metadata": {},
       "status": "ok"
      }
     },
     {
      "expression": "Eq(c, gamma*m)",
      "result": {
       "data": {
        "text/latex": "$\\displaystyle c = \\gamma m$",
        "text/plain": "Eq(c, gamma*m)"
       },
       "metadata": {},
       "status": "ok"
      }
     },
     {
      "expression": "Eq(R, gamma*L)",
      "result": {
       "data": {
        "text/latex": "$\\displaystyle R = L \\gamma$",
        "text/plain": "Eq(R, L*gamma)"
       },
       "metadata": {},
       "status": "ok"
      }
     },
     {
      "expression": "k",
      "result": {
       "data": {
        "text/latex": "$\\displaystyle k$",
        "text/plain": "k"
       },
       "metadata": {},
       "status": "ok"
      }
     },
     {
      "expression": "1/C",
      "result": {
       "data": {
        "text/latex": "$\\displaystyle \\frac{1}{C}$",
        "text/plain": "1/C"
       },
       "metadata": {},
       "status": "ok"
      }
     },
     {
      "expression": "define_omega_0_2_m",
      "result": {
       "data": {
        "text/latex": "$\\displaystyle \\omega_{0}^{2} = \\frac{k}{m}$",
        "text/plain": "Eq(omega_0**2, k/m)"
       },
       "metadata": {},
       "status": "ok"
      }
     },
     {
      "expression": "define_omega_0_2_e",
      "result": {
       "data": {
        "text/latex": "$\\displaystyle \\omega_{0}^{2} = \\frac{1}{C L}$",
        "text/plain": "Eq(omega_0**2, 1/(C*L))"
       },
       "metadata": {},
       "status": "ok"
      }
     },
     {
      "expression": "Eq(t_0, 2*pi*sqrt(m/k))",
      "result": {
       "data": {
        "text/latex": "$\\displaystyle t_{0} = 2 \\pi \\sqrt{\\frac{m}{k}}$",
        "text/plain": "Eq(t_0, 2*pi*sqrt(m/k))"
       },
       "metadata": {},
       "status": "ok"
      }
     },
     {
      "expression": "Eq(t_0, 2*pi*sqrt(L*C))",
      "result": {
       "data": {
        "text/latex": "$\\displaystyle t_{0} = 2 \\pi \\sqrt{C L}$",
        "text/plain": "Eq(t_0, 2*pi*sqrt(C*L))"
       },
       "metadata": {},
       "status": "ok"
      }
     },
     {
      "expression": "Eq(Q, omega_0/gamma)",
      "result": {
       "data": {
        "text/latex": "$\\displaystyle Q = \\frac{\\omega_{0}}{\\gamma}$",
        "text/plain": "Eq(Q, omega_0/gamma)"
       },
       "metadata": {},
       "status": "ok"
      }
     },
     {
      "expression": "Eq(Q, omega_0/gamma)",
      "result": {
       "data": {
        "text/latex": "$\\displaystyle Q = \\frac{\\omega_{0}}{\\gamma}$",
        "text/plain": "Eq(Q, omega_0/gamma)"
       },
       "metadata": {},
       "status": "ok"
      }
     }
    ]
   },
   "source": [
    "| 一般特征      | 力学性质                            | 电学性质                           |\n",
    "|:------------|------------------------------------|----------------------------------:|\n",
    "| 自变量       | 时间{eval}`t`                       | 时间{eval}`t`                     |\n",
    "| 因变量       | 位置{eval}`x(t)`                    | 电荷{eval}`q(t)`                  |\n",
    "| 惯性         | 质量{eval}`m`                      | 电感{eval}`L`                      |\n",
    "| 阻抗         | 曳力系数{eval}`Eq(c, gamma*m)`      | 电阻 {eval}`Eq(R, gamma*L)`        |\n",
    "| 刚性         | 刚性{eval}`k`                      | 电容的倒数{eval}`1/C`               |\n",
    "| 共振频率      | {eval}`define_omega_0_2_m`        | {eval}`define_omega_0_2_e`        |\n",
    "| 周期         | {eval}`Eq(t_0, 2*pi*sqrt(m/k))`    | {eval}`Eq(t_0, 2*pi*sqrt(L*C))`  |\n",
    "| 品质因数      | {eval}`Eq(Q, omega_0/gamma)`      | {eval}`Eq(Q, omega_0/gamma)`       |     "
   ]
  },
  {
   "cell_type": "code",
   "execution_count": null,
   "metadata": {},
   "outputs": [],
   "source": []
  }
 ],
 "metadata": {
  "kernelspec": {
   "display_name": "Python 3 (ipykernel)",
   "language": "python",
   "name": "python3"
  },
  "language_info": {
   "codemirror_mode": {
    "name": "ipython",
    "version": 3
   },
   "file_extension": ".py",
   "mimetype": "text/x-python",
   "name": "python",
   "nbconvert_exporter": "python",
   "pygments_lexer": "ipython3",
   "version": "3.12.3"
  }
 },
 "nbformat": 4,
 "nbformat_minor": 4
}
